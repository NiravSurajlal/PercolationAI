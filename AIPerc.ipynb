{
 "cells": [
  {
   "cell_type": "code",
   "execution_count": 1,
   "metadata": {
    "colab": {
     "base_uri": "https://localhost:8080/",
     "height": 333
    },
    "executionInfo": {
     "elapsed": 2054,
     "status": "error",
     "timestamp": 1626506542308,
     "user": {
      "displayName": "Nirav Surajlal",
      "photoUrl": "",
      "userId": "02947004299569226018"
     },
     "user_tz": -120
    },
    "id": "oYuTWhpf1dUH",
    "outputId": "0ae88da6-0750-4d08-e11e-7ede1c5d069c"
   },
   "outputs": [],
   "source": [
    "from tensorflow import keras\n",
    "import numpy as np"
   ]
  },
  {
   "cell_type": "code",
   "execution_count": 2,
   "metadata": {
    "id": "FA2qY5a6d6yO"
   },
   "outputs": [],
   "source": [
    "NNmodel = keras.models.load_model(\"NNModel\")"
   ]
  },
  {
   "cell_type": "code",
   "execution_count": 12,
   "metadata": {
    "colab": {
     "base_uri": "https://localhost:8080/"
    },
    "executionInfo": {
     "elapsed": 2474,
     "status": "ok",
     "timestamp": 1626180383179,
     "user": {
      "displayName": "Nirav Surajlal",
      "photoUrl": "",
      "userId": "02947004299569226018"
     },
     "user_tz": -120
    },
    "id": "mDB9r2s8BC70",
    "outputId": "e9e30c2c-74b6-4e87-ec6a-36b650afcb89"
   },
   "outputs": [
    {
     "output_type": "stream",
     "name": "stdout",
     "text": [
      "Inputs [r1 2a2 r2 frac] = [1.0 0.8 2.0 0.1]\n        \nPredicted Nc:  1.5205975\n"
     ]
    }
   ],
   "source": [
    "response_array=[]\n",
    "x=True\n",
    "all_correct=True\n",
    "while x:\n",
    "    if len(response_array)<4 or len(response_array)>4 or all_correct==False:\n",
    "        all_correct=True\n",
    "        response = input('Please give me r1 2a2 r2 frac: ')\n",
    "\n",
    "        response_lst = response.split()\n",
    "        try:\n",
    "            response_lstint = [float(i) for i in response_lst]\n",
    "        except ValueError:\n",
    "            print(\"Please supply only positive integers or floats.\")\n",
    "            all_correct=False\n",
    "            response_array=[]\n",
    "        response_array = np.array(response_lstint)\n",
    "    else:\n",
    "        x=False\n",
    "\n",
    "# [\"b1\", \"a2\", \"b2\", \"RatioTotalArea\", \"frac\"]\n",
    "r1 = response_array[0]\n",
    "a1 = 0.5\n",
    "b1 = 0.5/r1\n",
    "r2 = response_array[2]\n",
    "a2 = response_array[1]/2\n",
    "b2 = a2/r2\n",
    "frac = response_array[3]\n",
    "RTA = (a1*b1*(1-frac)+a2*b2*(frac))*np.pi\n",
    "\n",
    "expanded_array = np.reshape([b1, a2, b2, RTA, frac], (1,-1))\n",
    "\n",
    "try:\n",
    "    predicted = NNmodel.predict(expanded_array)\n",
    "except:\n",
    "    print(\"Please try again.\")\n",
    "else:\n",
    "    print(\"Inputs [r1 2a2 r2 frac] = [{r1} {a2} {r2} {frac}]\".format(r1=r1, a2=a2*2, r2=r2, frac=frac))\n",
    "    print(\"        \")\n",
    "    print(\"Predicted Nc: \", predicted[0][0])"
   ]
  },
  {
   "cell_type": "code",
   "execution_count": null,
   "metadata": {},
   "outputs": [],
   "source": []
  }
 ],
 "metadata": {
  "colab": {
   "authorship_tag": "ABX9TyMBhNN6fNbIjKpcz7gBfH0Z",
   "collapsed_sections": [],
   "mount_file_id": "1IjZARY1zynmfu7wKFsceoRZrRpQBku1L",
   "name": "AIPerc.ipynb",
   "provenance": []
  },
  "kernelspec": {
   "name": "python3",
   "display_name": "Python 3.8.8 64-bit ('base': conda)"
  },
  "language_info": {
   "codemirror_mode": {
    "name": "ipython",
    "version": 3
   },
   "file_extension": ".py",
   "mimetype": "text/x-python",
   "name": "python",
   "nbconvert_exporter": "python",
   "pygments_lexer": "ipython3",
   "version": "3.8.8"
  },
  "interpreter": {
   "hash": "937a9bf7f4d02271b0e84c824f2cfec9d499b9b3c4d4ea54ebae47f399b1cd48"
  }
 },
 "nbformat": 4,
 "nbformat_minor": 4
}